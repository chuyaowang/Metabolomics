{
 "cells": [
  {
   "cell_type": "code",
   "execution_count": 32,
   "metadata": {},
   "outputs": [],
   "source": [
    "def knapsack(items, capacity):\n",
    "    # Create a table to store the maximum values for different capacities\n",
    "    table = [[0] * (capacity + 1) for _ in range(len(items) + 1)]\n",
    "\n",
    "    # Compute the maximum value for each capacity and item\n",
    "    for i in range(1, len(items) + 1):\n",
    "        weight, value = items[i - 1]\n",
    "        for w in range(1, capacity + 1):\n",
    "            if weight > w:\n",
    "                table[i][w] = table[i - 1][w]\n",
    "            else:\n",
    "                table[i][w] = max(value + table[i - 1][w - weight], table[i - 1][w])\n",
    "\n",
    "    # return table[len(items)][capacity]\n",
    "    return table"
   ]
  },
  {
   "cell_type": "code",
   "execution_count": 34,
   "metadata": {},
   "outputs": [],
   "source": [
    "items = [(2, 12), (1, 10), (1,12),(3, 20), (2, 15)]\n",
    "capacity = 5\n",
    "res = knapsack(items,capacity)\n",
    "# print(knapsack(items, capacity))"
   ]
  },
  {
   "cell_type": "markdown",
   "metadata": {},
   "source": [
    "columns represent each of the cases when the item is put in, how much remaining space is left.\n",
    "the rows updates the current optimal solution when there are i items to choose from\n"
   ]
  },
  {
   "cell_type": "markdown",
   "metadata": {},
   "source": [
    "Fibonacci number"
   ]
  },
  {
   "cell_type": "code",
   "execution_count": 1,
   "metadata": {},
   "outputs": [],
   "source": [
    "def fib(n):\n",
    "    x=y=1\n",
    "    for i in range(1,n):\n",
    "        x, y  = y, x+y\n",
    "    return x"
   ]
  },
  {
   "cell_type": "code",
   "execution_count": 5,
   "metadata": {},
   "outputs": [
    {
     "data": {
      "text/plain": [
       "354224848179261915075"
      ]
     },
     "execution_count": 5,
     "metadata": {},
     "output_type": "execute_result"
    }
   ],
   "source": [
    "fib()"
   ]
  }
 ],
 "metadata": {
  "kernelspec": {
   "display_name": "bio",
   "language": "python",
   "name": "python3"
  },
  "language_info": {
   "codemirror_mode": {
    "name": "ipython",
    "version": 3
   },
   "file_extension": ".py",
   "mimetype": "text/x-python",
   "name": "python",
   "nbconvert_exporter": "python",
   "pygments_lexer": "ipython3",
   "version": "3.11.3"
  },
  "orig_nbformat": 4
 },
 "nbformat": 4,
 "nbformat_minor": 2
}
